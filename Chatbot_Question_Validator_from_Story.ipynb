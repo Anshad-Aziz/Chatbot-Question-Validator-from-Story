{
  "nbformat": 4,
  "nbformat_minor": 0,
  "metadata": {
    "colab": {
      "provenance": [],
      "authorship_tag": "ABX9TyM1VIgyiHWqv9IezD5RLUyW",
      "include_colab_link": true
    },
    "kernelspec": {
      "name": "python3",
      "display_name": "Python 3"
    },
    "language_info": {
      "name": "python"
    }
  },
  "cells": [
    {
      "cell_type": "markdown",
      "metadata": {
        "id": "view-in-github",
        "colab_type": "text"
      },
      "source": [
        "<a href=\"https://colab.research.google.com/github/Anshad-Aziz/Chatbot-Question-Validator-from-Story/blob/main/Chatbot_Question_Validator_from_Story.ipynb\" target=\"_parent\"><img src=\"https://colab.research.google.com/assets/colab-badge.svg\" alt=\"Open In Colab\"/></a>"
      ]
    },
    {
      "cell_type": "code",
      "execution_count": 1,
      "metadata": {
        "id": "QSgoFxTi5_-g"
      },
      "outputs": [],
      "source": [
        "import pickle\n",
        "import numpy as np\n",
        "import keras\n",
        "import tensorflow\n",
        "from tensorflow.keras.preprocessing.sequence import pad_sequences\n",
        "from tensorflow.keras.preprocessing.text import Tokenizer\n",
        "from tensorflow.keras.models import Sequential,Model\n",
        "from tensorflow.keras.layers import Embedding\n",
        "from tensorflow.keras.layers import Input,Activation,Dense,Permute,Dropout,add,dot,concatenate,LSTM"
      ]
    },
    {
      "cell_type": "code",
      "source": [
        "with open(\"/content/train_qa.txt\",\"rb\") as fp:\n",
        "  train_data=pickle.load(fp)\n",
        "with open(\"/content/test_qa.txt\",\"rb\") as fp:\n",
        "  test_data=pickle.load(fp)"
      ],
      "metadata": {
        "id": "PZoADqS27jUq"
      },
      "execution_count": 2,
      "outputs": []
    },
    {
      "cell_type": "code",
      "source": [
        "display(train_data[:1])"
      ],
      "metadata": {
        "colab": {
          "base_uri": "https://localhost:8080/",
          "height": 260
        },
        "id": "Kx7KpKtc8FNq",
        "outputId": "f1265b96-ba6f-4947-f1c6-2710527fee03"
      },
      "execution_count": 3,
      "outputs": [
        {
          "output_type": "display_data",
          "data": {
            "text/plain": [
              "[(['Mary',\n",
              "   'moved',\n",
              "   'to',\n",
              "   'the',\n",
              "   'bathroom',\n",
              "   '.',\n",
              "   'Sandra',\n",
              "   'journeyed',\n",
              "   'to',\n",
              "   'the',\n",
              "   'bedroom',\n",
              "   '.'],\n",
              "  ['Is', 'Sandra', 'in', 'the', 'hallway', '?'],\n",
              "  'no')]"
            ]
          },
          "metadata": {}
        }
      ]
    },
    {
      "cell_type": "code",
      "source": [
        "display(test_data[:1])"
      ],
      "metadata": {
        "colab": {
          "base_uri": "https://localhost:8080/",
          "height": 260
        },
        "id": "-jGVXIyg8UiA",
        "outputId": "c576f35f-f446-4a07-ed4d-18f4185f5892"
      },
      "execution_count": 4,
      "outputs": [
        {
          "output_type": "display_data",
          "data": {
            "text/plain": [
              "[(['Mary',\n",
              "   'got',\n",
              "   'the',\n",
              "   'milk',\n",
              "   'there',\n",
              "   '.',\n",
              "   'John',\n",
              "   'moved',\n",
              "   'to',\n",
              "   'the',\n",
              "   'bedroom',\n",
              "   '.'],\n",
              "  ['Is', 'John', 'in', 'the', 'kitchen', '?'],\n",
              "  'no')]"
            ]
          },
          "metadata": {}
        }
      ]
    },
    {
      "cell_type": "code",
      "source": [
        "print(\"Type of train data: \",type(train_data))\n",
        "print(\"length of training data:\",len(train_data))"
      ],
      "metadata": {
        "colab": {
          "base_uri": "https://localhost:8080/"
        },
        "id": "pHYdCNsG8bJV",
        "outputId": "ef295fd1-fdab-44ec-a83d-97158e661d6d"
      },
      "execution_count": 5,
      "outputs": [
        {
          "output_type": "stream",
          "name": "stdout",
          "text": [
            "Type of train data:  <class 'list'>\n",
            "length of training data: 10000\n"
          ]
        }
      ]
    },
    {
      "cell_type": "code",
      "source": [
        "\" \".join(train_data[0][0])"
      ],
      "metadata": {
        "colab": {
          "base_uri": "https://localhost:8080/",
          "height": 35
        },
        "id": "-cEQx9vn8o05",
        "outputId": "6beac757-a855-4d31-f087-1ddb5eda8493"
      },
      "execution_count": 6,
      "outputs": [
        {
          "output_type": "execute_result",
          "data": {
            "text/plain": [
              "'Mary moved to the bathroom . Sandra journeyed to the bedroom .'"
            ],
            "application/vnd.google.colaboratory.intrinsic+json": {
              "type": "string"
            }
          },
          "metadata": {},
          "execution_count": 6
        }
      ]
    },
    {
      "cell_type": "code",
      "source": [
        "\" \".join(train_data[0][1])"
      ],
      "metadata": {
        "colab": {
          "base_uri": "https://localhost:8080/",
          "height": 35
        },
        "id": "9xEZuF6Z8vs9",
        "outputId": "621e260c-f228-4a2d-8528-d7c91f53eca7"
      },
      "execution_count": 7,
      "outputs": [
        {
          "output_type": "execute_result",
          "data": {
            "text/plain": [
              "'Is Sandra in the hallway ?'"
            ],
            "application/vnd.google.colaboratory.intrinsic+json": {
              "type": "string"
            }
          },
          "metadata": {},
          "execution_count": 7
        }
      ]
    },
    {
      "cell_type": "code",
      "source": [
        "train_data[0][2]"
      ],
      "metadata": {
        "colab": {
          "base_uri": "https://localhost:8080/",
          "height": 35
        },
        "id": "6zunI_NY81ry",
        "outputId": "fd59da0e-79fd-42ef-ab0b-b8109498ff67"
      },
      "execution_count": 8,
      "outputs": [
        {
          "output_type": "execute_result",
          "data": {
            "text/plain": [
              "'no'"
            ],
            "application/vnd.google.colaboratory.intrinsic+json": {
              "type": "string"
            }
          },
          "metadata": {},
          "execution_count": 8
        }
      ]
    },
    {
      "cell_type": "code",
      "source": [
        "vocab=set()"
      ],
      "metadata": {
        "id": "U4rBN2pl85u3"
      },
      "execution_count": 9,
      "outputs": []
    },
    {
      "cell_type": "code",
      "source": [
        "all_data=test_data+train_data"
      ],
      "metadata": {
        "id": "mPyPHzl2893u"
      },
      "execution_count": 12,
      "outputs": []
    },
    {
      "cell_type": "code",
      "source": [
        "print(\"Type of all data:\",type(all_data))\n",
        "print(\"length of all data:\",len(all_data))"
      ],
      "metadata": {
        "colab": {
          "base_uri": "https://localhost:8080/"
        },
        "id": "gn3nFCJb9DMA",
        "outputId": "38f9a60e-6cbb-4cfe-9b7f-b1d027ae9420"
      },
      "execution_count": 13,
      "outputs": [
        {
          "output_type": "stream",
          "name": "stdout",
          "text": [
            "Type of all data: <class 'list'>\n",
            "length of all data: 20000\n"
          ]
        }
      ]
    },
    {
      "cell_type": "code",
      "source": [
        "for story,question,qnswer in all_data:\n",
        "  vocab=vocab.union(set(story))\n",
        "  vocab=vocab.union(set(question))"
      ],
      "metadata": {
        "id": "EQky4zc09PBH"
      },
      "execution_count": 14,
      "outputs": []
    },
    {
      "cell_type": "code",
      "source": [
        "vocab.add('yes')\n",
        "vocab.add('no')"
      ],
      "metadata": {
        "id": "2HTJErpy9k4G"
      },
      "execution_count": 15,
      "outputs": []
    },
    {
      "cell_type": "code",
      "source": [
        "vocab"
      ],
      "metadata": {
        "colab": {
          "base_uri": "https://localhost:8080/"
        },
        "id": "yxwiG_q89qdQ",
        "outputId": "01493e80-72a7-4230-9aea-ad17b7785336"
      },
      "execution_count": 16,
      "outputs": [
        {
          "output_type": "execute_result",
          "data": {
            "text/plain": [
              "{'.',\n",
              " '?',\n",
              " 'Daniel',\n",
              " 'Is',\n",
              " 'John',\n",
              " 'Mary',\n",
              " 'Sandra',\n",
              " 'apple',\n",
              " 'back',\n",
              " 'bathroom',\n",
              " 'bedroom',\n",
              " 'discarded',\n",
              " 'down',\n",
              " 'dropped',\n",
              " 'football',\n",
              " 'garden',\n",
              " 'got',\n",
              " 'grabbed',\n",
              " 'hallway',\n",
              " 'in',\n",
              " 'journeyed',\n",
              " 'kitchen',\n",
              " 'left',\n",
              " 'milk',\n",
              " 'moved',\n",
              " 'no',\n",
              " 'office',\n",
              " 'picked',\n",
              " 'put',\n",
              " 'the',\n",
              " 'there',\n",
              " 'to',\n",
              " 'took',\n",
              " 'travelled',\n",
              " 'up',\n",
              " 'went',\n",
              " 'yes'}"
            ]
          },
          "metadata": {},
          "execution_count": 16
        }
      ]
    },
    {
      "cell_type": "code",
      "source": [
        "len(vocab)"
      ],
      "metadata": {
        "colab": {
          "base_uri": "https://localhost:8080/"
        },
        "id": "1WCSh7z79rzT",
        "outputId": "8b35f810-78b5-4d12-bb66-17ccb665c676"
      },
      "execution_count": 17,
      "outputs": [
        {
          "output_type": "execute_result",
          "data": {
            "text/plain": [
              "37"
            ]
          },
          "metadata": {},
          "execution_count": 17
        }
      ]
    },
    {
      "cell_type": "code",
      "source": [
        "vocab_len=len(vocab)+1\n",
        "max_story_len=max([len(data[0])for data in all_data])\n",
        "print(\"Maximum length of story \",max_story_len)"
      ],
      "metadata": {
        "colab": {
          "base_uri": "https://localhost:8080/"
        },
        "id": "FbXY8z1-9wJ-",
        "outputId": "153825e2-d6a1-489b-af1d-79017cfacc98"
      },
      "execution_count": 18,
      "outputs": [
        {
          "output_type": "stream",
          "name": "stdout",
          "text": [
            "Maximum length of story  156\n"
          ]
        }
      ]
    },
    {
      "cell_type": "code",
      "source": [
        "max_ques_len=max(len(data[1])for data in all_data)\n",
        "print(\"maximum length of question \",max_ques_len)"
      ],
      "metadata": {
        "colab": {
          "base_uri": "https://localhost:8080/"
        },
        "id": "51TBIJWI-FDD",
        "outputId": "2c633ac0-80b9-4a3a-d2b1-6440598153e3"
      },
      "execution_count": 19,
      "outputs": [
        {
          "output_type": "stream",
          "name": "stdout",
          "text": [
            "maximum length of question  6\n"
          ]
        }
      ]
    },
    {
      "cell_type": "code",
      "source": [
        "tokenizer=Tokenizer(filters=[])"
      ],
      "metadata": {
        "id": "mUkxxkfg-UhU"
      },
      "execution_count": 20,
      "outputs": []
    },
    {
      "cell_type": "code",
      "source": [
        "tokenizer.fit_on_texts(vocab)"
      ],
      "metadata": {
        "id": "xdjbukcP-eZY"
      },
      "execution_count": 21,
      "outputs": []
    },
    {
      "cell_type": "code",
      "source": [
        "tokenizer.word_index"
      ],
      "metadata": {
        "colab": {
          "base_uri": "https://localhost:8080/"
        },
        "id": "L0ShedJw-kaq",
        "outputId": "a2970e10-e43b-40fe-ee1d-c0a237b0ede4"
      },
      "execution_count": 22,
      "outputs": [
        {
          "output_type": "execute_result",
          "data": {
            "text/plain": [
              "{'back': 1,\n",
              " 'left': 2,\n",
              " 'yes': 3,\n",
              " 'football': 4,\n",
              " 'the': 5,\n",
              " '?': 6,\n",
              " 'no': 7,\n",
              " 'daniel': 8,\n",
              " 'journeyed': 9,\n",
              " 'hallway': 10,\n",
              " 'up': 11,\n",
              " 'down': 12,\n",
              " 'went': 13,\n",
              " 'bedroom': 14,\n",
              " 'kitchen': 15,\n",
              " 'travelled': 16,\n",
              " 'in': 17,\n",
              " 'to': 18,\n",
              " 'took': 19,\n",
              " 'got': 20,\n",
              " 'grabbed': 21,\n",
              " 'john': 22,\n",
              " 'sandra': 23,\n",
              " 'apple': 24,\n",
              " 'moved': 25,\n",
              " 'milk': 26,\n",
              " 'mary': 27,\n",
              " 'picked': 28,\n",
              " 'is': 29,\n",
              " 'office': 30,\n",
              " 'dropped': 31,\n",
              " 'put': 32,\n",
              " 'there': 33,\n",
              " 'discarded': 34,\n",
              " '.': 35,\n",
              " 'garden': 36,\n",
              " 'bathroom': 37}"
            ]
          },
          "metadata": {},
          "execution_count": 22
        }
      ]
    },
    {
      "cell_type": "code",
      "source": [
        "train_story_text=[]\n",
        "train_question_text=[]\n",
        "train_answer=[]\n",
        "for story,question,answer in train_data:\n",
        "  train_story_text.append(story)\n",
        "  train_question_text.append(question)"
      ],
      "metadata": {
        "id": "bABr5aJH-ogN"
      },
      "execution_count": 23,
      "outputs": []
    },
    {
      "cell_type": "code",
      "source": [
        "train_story_seq=tokenizer.texts_to_sequences(train_story_text)"
      ],
      "metadata": {
        "id": "R9RqyQxm_Ck6"
      },
      "execution_count": 24,
      "outputs": []
    },
    {
      "cell_type": "code",
      "source": [
        "train_story_seq[0]"
      ],
      "metadata": {
        "colab": {
          "base_uri": "https://localhost:8080/"
        },
        "id": "aaGQRxqv_Kx4",
        "outputId": "196e5f95-1ec7-467f-f0f9-6c58744456c1"
      },
      "execution_count": 25,
      "outputs": [
        {
          "output_type": "execute_result",
          "data": {
            "text/plain": [
              "[27, 25, 18, 5, 37, 35, 23, 9, 18, 5, 14, 35]"
            ]
          },
          "metadata": {},
          "execution_count": 25
        }
      ]
    },
    {
      "cell_type": "code",
      "source": [
        "train_story_text[0]"
      ],
      "metadata": {
        "colab": {
          "base_uri": "https://localhost:8080/"
        },
        "id": "Ejo8sWPN_Nuf",
        "outputId": "133e4f14-9efd-4cbe-a454-a8be1b4a2ea2"
      },
      "execution_count": 27,
      "outputs": [
        {
          "output_type": "execute_result",
          "data": {
            "text/plain": [
              "['Mary',\n",
              " 'moved',\n",
              " 'to',\n",
              " 'the',\n",
              " 'bathroom',\n",
              " '.',\n",
              " 'Sandra',\n",
              " 'journeyed',\n",
              " 'to',\n",
              " 'the',\n",
              " 'bedroom',\n",
              " '.']"
            ]
          },
          "metadata": {},
          "execution_count": 27
        }
      ]
    },
    {
      "cell_type": "code",
      "source": [
        "#function for vectorizing story from data\n",
        "def vectorize_stories(data,word_index =tokenizer.word_index,\n",
        "                     max_story_len=max_story_len,max_ques_len=max_ques_len):\n",
        "    X=[] #stroies\n",
        "    Xq=[] #question\n",
        "    Y=[] #correct answers\n",
        "\n",
        "    for story,query,answer in data:\n",
        "        x=[word_index[word.lower()] for word in story]\n",
        "        xq=[word_index[word.lower()] for word in query]\n",
        "        y=np.zeros(len(word_index)+1)\n",
        "        y[word_index[answer]]=1\n",
        "\n",
        "        X.append(x)\n",
        "        Xq.append(xq)\n",
        "        Y.append(y)\n",
        "    return(pad_sequences(X,maxlen=max_story_len),\n",
        "          pad_sequences(Xq,maxlen=max_ques_len),\n",
        "          np.array(Y))\n",
        ""
      ],
      "metadata": {
        "id": "XcTIqoD9_R0M"
      },
      "execution_count": 28,
      "outputs": []
    },
    {
      "cell_type": "code",
      "source": [
        "inputs_train,queries_train,answers_train=vectorize_stories(train_data)"
      ],
      "metadata": {
        "id": "9bCBb_cF_a0A"
      },
      "execution_count": 29,
      "outputs": []
    },
    {
      "cell_type": "code",
      "source": [
        "inputs_test,queries_test,answers_test=vectorize_stories(test_data)"
      ],
      "metadata": {
        "id": "iiOz4THw_fsW"
      },
      "execution_count": 30,
      "outputs": []
    },
    {
      "cell_type": "code",
      "source": [
        "inputs_train"
      ],
      "metadata": {
        "colab": {
          "base_uri": "https://localhost:8080/"
        },
        "id": "8lwPcNQk_hvQ",
        "outputId": "ef691a81-956a-43ac-b48b-674d1ddc6849"
      },
      "execution_count": 31,
      "outputs": [
        {
          "output_type": "execute_result",
          "data": {
            "text/plain": [
              "array([[ 0,  0,  0, ...,  5, 14, 35],\n",
              "       [ 0,  0,  0, ...,  5, 10, 35],\n",
              "       [ 0,  0,  0, ...,  5, 37, 35],\n",
              "       ...,\n",
              "       [ 0,  0,  0, ...,  5, 14, 35],\n",
              "       [ 0,  0,  0, ..., 26, 33, 35],\n",
              "       [ 0,  0,  0, ..., 24, 33, 35]], dtype=int32)"
            ]
          },
          "metadata": {},
          "execution_count": 31
        }
      ]
    },
    {
      "cell_type": "code",
      "source": [
        "queries_test"
      ],
      "metadata": {
        "colab": {
          "base_uri": "https://localhost:8080/"
        },
        "id": "26fu945L_kIb",
        "outputId": "20f45b30-adf8-49f2-ed96-e05cd583dcb4"
      },
      "execution_count": 32,
      "outputs": [
        {
          "output_type": "execute_result",
          "data": {
            "text/plain": [
              "array([[29, 23, 17,  5, 10,  6],\n",
              "       [29,  8, 17,  5, 37,  6],\n",
              "       [29,  8, 17,  5, 30,  6],\n",
              "       ...,\n",
              "       [29, 23, 17,  5, 10,  6],\n",
              "       [29, 27, 17,  5, 15,  6],\n",
              "       [29, 27, 17,  5, 14,  6]], dtype=int32)"
            ]
          },
          "metadata": {},
          "execution_count": 32
        }
      ]
    },
    {
      "cell_type": "code",
      "source": [
        "answers_test"
      ],
      "metadata": {
        "colab": {
          "base_uri": "https://localhost:8080/"
        },
        "id": "2SpVaf_e_m9v",
        "outputId": "c2801da7-2d96-4389-e0b3-38f7b3751529"
      },
      "execution_count": 34,
      "outputs": [
        {
          "output_type": "execute_result",
          "data": {
            "text/plain": [
              "array([[0., 0., 0., ..., 0., 0., 0.],\n",
              "       [0., 0., 0., ..., 0., 0., 0.],\n",
              "       [0., 0., 0., ..., 0., 0., 0.],\n",
              "       ...,\n",
              "       [0., 0., 0., ..., 0., 0., 0.],\n",
              "       [0., 0., 0., ..., 0., 0., 0.],\n",
              "       [0., 0., 0., ..., 0., 0., 0.]])"
            ]
          },
          "metadata": {},
          "execution_count": 34
        }
      ]
    },
    {
      "cell_type": "code",
      "source": [
        "tokenizer.word_index[\"yes\"]"
      ],
      "metadata": {
        "colab": {
          "base_uri": "https://localhost:8080/"
        },
        "id": "oGVZ7afA_qlW",
        "outputId": "ba52709e-0358-410c-c876-54ea911534e9"
      },
      "execution_count": 35,
      "outputs": [
        {
          "output_type": "execute_result",
          "data": {
            "text/plain": [
              "3"
            ]
          },
          "metadata": {},
          "execution_count": 35
        }
      ]
    },
    {
      "cell_type": "code",
      "source": [
        "tokenizer.word_index['no']"
      ],
      "metadata": {
        "colab": {
          "base_uri": "https://localhost:8080/"
        },
        "id": "8Dd6j7GH_1Up",
        "outputId": "dbde8b45-86ba-4e35-af8b-5dc13352b6a7"
      },
      "execution_count": 36,
      "outputs": [
        {
          "output_type": "execute_result",
          "data": {
            "text/plain": [
              "7"
            ]
          },
          "metadata": {},
          "execution_count": 36
        }
      ]
    },
    {
      "cell_type": "code",
      "source": [
        "input_sequence=Input((max_story_len,))\n",
        "question=Input((max_ques_len,))"
      ],
      "metadata": {
        "id": "qaiJESxV_6AV"
      },
      "execution_count": 43,
      "outputs": []
    },
    {
      "cell_type": "code",
      "source": [
        "input_encoder_m=Sequential()\n",
        "input_encoder_m.add(Embedding(input_dim=vocab_len,output_dim=64))\n",
        "input_encoder_m.add(Dropout(0.3))"
      ],
      "metadata": {
        "id": "zUi6x8GHAHcK"
      },
      "execution_count": 38,
      "outputs": []
    },
    {
      "cell_type": "code",
      "source": [
        "input_encoder_c=Sequential()\n",
        "input_encoder_c.add(Embedding(input_dim=vocab_len,output_dim=max_ques_len))\n",
        "input_encoder_c.add(Dropout(0.3))"
      ],
      "metadata": {
        "id": "1sWAjiadAftw"
      },
      "execution_count": 40,
      "outputs": []
    },
    {
      "cell_type": "code",
      "source": [
        "question_encoder=Sequential()\n",
        "question_encoder.add(Embedding(input_dim=vocab_len,output_dim=64,input_length=max_ques_len))\n",
        "question_encoder.add(Dropout(0.3))"
      ],
      "metadata": {
        "id": "smqEhWdJAnw0"
      },
      "execution_count": 41,
      "outputs": []
    },
    {
      "cell_type": "code",
      "source": [
        "input_encoded_m=input_encoder_m(input_sequence)\n",
        "input_encoded_c=input_encoder_c(input_sequence)\n",
        "question_encoded=question_encoder(question)"
      ],
      "metadata": {
        "id": "pcyrQqoVBHE5"
      },
      "execution_count": 44,
      "outputs": []
    },
    {
      "cell_type": "code",
      "source": [
        "match=dot([input_encoded_m,question_encoded],axes=(2,2))\n",
        "match= Activation(\"softmax\")(match)"
      ],
      "metadata": {
        "id": "nzkDu1z5BKXW"
      },
      "execution_count": 45,
      "outputs": []
    },
    {
      "cell_type": "code",
      "source": [
        "response=add([match,input_encoded_c])\n",
        "response=Permute((2,1))(response)"
      ],
      "metadata": {
        "id": "D-UwcpEiBZ5G"
      },
      "execution_count": 46,
      "outputs": []
    },
    {
      "cell_type": "code",
      "source": [
        "answer =concatenate([response,question_encoded])\n",
        "answer"
      ],
      "metadata": {
        "colab": {
          "base_uri": "https://localhost:8080/"
        },
        "id": "-JSV1RUfBb_n",
        "outputId": "c2d9a8b8-a329-4939-feeb-d67f32d028c9"
      },
      "execution_count": 47,
      "outputs": [
        {
          "output_type": "execute_result",
          "data": {
            "text/plain": [
              "<KerasTensor: shape=(None, 6, 220) dtype=float32 (created by layer 'concatenate')>"
            ]
          },
          "metadata": {},
          "execution_count": 47
        }
      ]
    },
    {
      "cell_type": "code",
      "source": [
        "answer=LSTM(32)(answer)"
      ],
      "metadata": {
        "id": "-7vhBOThBeFR"
      },
      "execution_count": 48,
      "outputs": []
    },
    {
      "cell_type": "code",
      "source": [
        "answer=Dropout(0.5)(answer)\n",
        "answer=Dense(vocab_len)(answer)"
      ],
      "metadata": {
        "id": "eQZyYjV7BgdW"
      },
      "execution_count": 49,
      "outputs": []
    },
    {
      "cell_type": "code",
      "source": [
        "answer=Activation(\"softmax\")(answer)"
      ],
      "metadata": {
        "id": "rTYimJ-KBjmp"
      },
      "execution_count": 50,
      "outputs": []
    },
    {
      "cell_type": "code",
      "source": [
        "model=Model([input_sequence,question],answer)\n",
        "model.compile(optimizer=\"rmsprop\",loss='categorical_crossentropy',metrics=['accuracy'])\n"
      ],
      "metadata": {
        "id": "TPx2YJoIBlpJ"
      },
      "execution_count": 51,
      "outputs": []
    },
    {
      "cell_type": "code",
      "source": [
        "model.summary()"
      ],
      "metadata": {
        "colab": {
          "base_uri": "https://localhost:8080/"
        },
        "id": "lMbiwxg9B7Cc",
        "outputId": "cb000093-2b07-45af-bd7d-7b2b66d35b1c"
      },
      "execution_count": 52,
      "outputs": [
        {
          "output_type": "stream",
          "name": "stdout",
          "text": [
            "Model: \"model\"\n",
            "__________________________________________________________________________________________________\n",
            " Layer (type)                Output Shape                 Param #   Connected to                  \n",
            "==================================================================================================\n",
            " input_3 (InputLayer)        [(None, 156)]                0         []                            \n",
            "                                                                                                  \n",
            " input_4 (InputLayer)        [(None, 6)]                  0         []                            \n",
            "                                                                                                  \n",
            " sequential (Sequential)     (None, None, 64)             2432      ['input_3[0][0]']             \n",
            "                                                                                                  \n",
            " sequential_3 (Sequential)   (None, 6, 64)                2432      ['input_4[0][0]']             \n",
            "                                                                                                  \n",
            " dot (Dot)                   (None, 156, 6)               0         ['sequential[0][0]',          \n",
            "                                                                     'sequential_3[0][0]']        \n",
            "                                                                                                  \n",
            " activation (Activation)     (None, 156, 6)               0         ['dot[0][0]']                 \n",
            "                                                                                                  \n",
            " sequential_2 (Sequential)   (None, None, 6)              228       ['input_3[0][0]']             \n",
            "                                                                                                  \n",
            " add (Add)                   (None, 156, 6)               0         ['activation[0][0]',          \n",
            "                                                                     'sequential_2[0][0]']        \n",
            "                                                                                                  \n",
            " permute (Permute)           (None, 6, 156)               0         ['add[0][0]']                 \n",
            "                                                                                                  \n",
            " concatenate (Concatenate)   (None, 6, 220)               0         ['permute[0][0]',             \n",
            "                                                                     'sequential_3[0][0]']        \n",
            "                                                                                                  \n",
            " lstm (LSTM)                 (None, 32)                   32384     ['concatenate[0][0]']         \n",
            "                                                                                                  \n",
            " dropout_4 (Dropout)         (None, 32)                   0         ['lstm[0][0]']                \n",
            "                                                                                                  \n",
            " dense (Dense)               (None, 38)                   1254      ['dropout_4[0][0]']           \n",
            "                                                                                                  \n",
            " activation_1 (Activation)   (None, 38)                   0         ['dense[0][0]']               \n",
            "                                                                                                  \n",
            "==================================================================================================\n",
            "Total params: 38730 (151.29 KB)\n",
            "Trainable params: 38730 (151.29 KB)\n",
            "Non-trainable params: 0 (0.00 Byte)\n",
            "__________________________________________________________________________________________________\n"
          ]
        }
      ]
    },
    {
      "cell_type": "code",
      "source": [
        "history=model.fit([inputs_train,queries_train],answers_train,batch_size=32,epochs=20,validation_data=([inputs_test,queries_test],answers_test))"
      ],
      "metadata": {
        "colab": {
          "base_uri": "https://localhost:8080/"
        },
        "id": "Qn4B2vG2B84s",
        "outputId": "cb70b9da-eca8-48a8-ccf8-c5e206d3963a"
      },
      "execution_count": 53,
      "outputs": [
        {
          "output_type": "stream",
          "name": "stdout",
          "text": [
            "Epoch 1/20\n",
            "313/313 [==============================] - 7s 16ms/step - loss: 0.8959 - accuracy: 0.4932 - val_loss: 0.7016 - val_accuracy: 0.4988\n",
            "Epoch 2/20\n",
            "313/313 [==============================] - 4s 12ms/step - loss: 0.7070 - accuracy: 0.5020 - val_loss: 0.6936 - val_accuracy: 0.5012\n",
            "Epoch 3/20\n",
            "313/313 [==============================] - 4s 13ms/step - loss: 0.6996 - accuracy: 0.4928 - val_loss: 0.6975 - val_accuracy: 0.4988\n",
            "Epoch 4/20\n",
            "313/313 [==============================] - 7s 22ms/step - loss: 0.6957 - accuracy: 0.5073 - val_loss: 0.6947 - val_accuracy: 0.4988\n",
            "Epoch 5/20\n",
            "313/313 [==============================] - 5s 16ms/step - loss: 0.6957 - accuracy: 0.5031 - val_loss: 0.6933 - val_accuracy: 0.5012\n",
            "Epoch 6/20\n",
            "313/313 [==============================] - 4s 14ms/step - loss: 0.6956 - accuracy: 0.4985 - val_loss: 0.6934 - val_accuracy: 0.5012\n",
            "Epoch 7/20\n",
            "313/313 [==============================] - 4s 14ms/step - loss: 0.6949 - accuracy: 0.5017 - val_loss: 0.6956 - val_accuracy: 0.5012\n",
            "Epoch 8/20\n",
            "313/313 [==============================] - 4s 13ms/step - loss: 0.6962 - accuracy: 0.4890 - val_loss: 0.6937 - val_accuracy: 0.4988\n",
            "Epoch 9/20\n",
            "313/313 [==============================] - 5s 15ms/step - loss: 0.6958 - accuracy: 0.4934 - val_loss: 0.6933 - val_accuracy: 0.4988\n",
            "Epoch 10/20\n",
            "313/313 [==============================] - 4s 13ms/step - loss: 0.6951 - accuracy: 0.5026 - val_loss: 0.6938 - val_accuracy: 0.5012\n",
            "Epoch 11/20\n",
            "313/313 [==============================] - 6s 20ms/step - loss: 0.6954 - accuracy: 0.4940 - val_loss: 0.6935 - val_accuracy: 0.4988\n",
            "Epoch 12/20\n",
            "313/313 [==============================] - 6s 19ms/step - loss: 0.6952 - accuracy: 0.4984 - val_loss: 0.6960 - val_accuracy: 0.5012\n",
            "Epoch 13/20\n",
            "313/313 [==============================] - 5s 15ms/step - loss: 0.6951 - accuracy: 0.4941 - val_loss: 0.6956 - val_accuracy: 0.5012\n",
            "Epoch 14/20\n",
            "313/313 [==============================] - 6s 18ms/step - loss: 0.6957 - accuracy: 0.4934 - val_loss: 0.6943 - val_accuracy: 0.4988\n",
            "Epoch 15/20\n",
            "313/313 [==============================] - 4s 13ms/step - loss: 0.6949 - accuracy: 0.4998 - val_loss: 0.6936 - val_accuracy: 0.5012\n",
            "Epoch 16/20\n",
            "313/313 [==============================] - 4s 13ms/step - loss: 0.6956 - accuracy: 0.4879 - val_loss: 0.6931 - val_accuracy: 0.5012\n",
            "Epoch 17/20\n",
            "313/313 [==============================] - 4s 13ms/step - loss: 0.6948 - accuracy: 0.5070 - val_loss: 0.6959 - val_accuracy: 0.5012\n",
            "Epoch 18/20\n",
            "313/313 [==============================] - 5s 15ms/step - loss: 0.6952 - accuracy: 0.5020 - val_loss: 0.6944 - val_accuracy: 0.5012\n",
            "Epoch 19/20\n",
            "313/313 [==============================] - 4s 14ms/step - loss: 0.6947 - accuracy: 0.5067 - val_loss: 0.6932 - val_accuracy: 0.4988\n",
            "Epoch 20/20\n",
            "313/313 [==============================] - 4s 13ms/step - loss: 0.6949 - accuracy: 0.5001 - val_loss: 0.6932 - val_accuracy: 0.5012\n"
          ]
        }
      ]
    },
    {
      "cell_type": "code",
      "source": [
        "import matplotlib.pyplot as plt\n",
        "print(history.history.keys())\n",
        "plt.plot(history.history[\"accuracy\"])\n",
        "plt.plot(history.history[\"val_accuracy\"])\n",
        "plt.title(\"model accuracy\")\n",
        "plt.ylabel(\"accuracy\")\n",
        "plt.xlabel(\"epochs\")"
      ],
      "metadata": {
        "colab": {
          "base_uri": "https://localhost:8080/",
          "height": 507
        },
        "id": "vfDJ4dLvClj6",
        "outputId": "833444f9-2380-40da-dd1d-418089ad1cec"
      },
      "execution_count": 54,
      "outputs": [
        {
          "output_type": "stream",
          "name": "stdout",
          "text": [
            "dict_keys(['loss', 'accuracy', 'val_loss', 'val_accuracy'])\n"
          ]
        },
        {
          "output_type": "execute_result",
          "data": {
            "text/plain": [
              "Text(0.5, 0, 'epochs')"
            ]
          },
          "metadata": {},
          "execution_count": 54
        },
        {
          "output_type": "display_data",
          "data": {
            "text/plain": [
              "<Figure size 640x480 with 1 Axes>"
            ],
            "image/png": "[encoded data removed]"
          },
          "metadata": {}
        }
      ]
    },
    {
      "cell_type": "code",
      "source": [
        "pred_results = model.predict(([inputs_test,queries_test]))"
      ],
      "metadata": {
        "colab": {
          "base_uri": "https://localhost:8080/"
        },
        "id": "C9yqnkNqCyZb",
        "outputId": "15a88b1c-ab97-48f7-ee7c-683012cb7f6e"
      },
      "execution_count": 56,
      "outputs": [
        {
          "output_type": "stream",
          "name": "stdout",
          "text": [
            "313/313 [==============================] - 1s 2ms/step\n"
          ]
        }
      ]
    },
    {
      "cell_type": "code",
      "source": [
        "test_data[0][0]"
      ],
      "metadata": {
        "colab": {
          "base_uri": "https://localhost:8080/"
        },
        "id": "QslcvTV4CyTv",
        "outputId": "c3710101-3582-4f66-e28a-afa5b7fa48c3"
      },
      "execution_count": 57,
      "outputs": [
        {
          "output_type": "execute_result",
          "data": {
            "text/plain": [
              "['Mary',\n",
              " 'moved',\n",
              " 'to',\n",
              " 'the',\n",
              " 'bathroom',\n",
              " '.',\n",
              " 'Sandra',\n",
              " 'journeyed',\n",
              " 'to',\n",
              " 'the',\n",
              " 'bedroom',\n",
              " '.']"
            ]
          },
          "metadata": {},
          "execution_count": 57
        }
      ]
    },
    {
      "cell_type": "code",
      "source": [
        "story=' '.join(word for word in train_data[23][0])"
      ],
      "metadata": {
        "id": "IAzOv0XKCyQ4"
      },
      "execution_count": 58,
      "outputs": []
    },
    {
      "cell_type": "code",
      "source": [
        "story"
      ],
      "metadata": {
        "colab": {
          "base_uri": "https://localhost:8080/",
          "height": 70
        },
        "id": "dI6plEsdCyLM",
        "outputId": "eb3be088-3110-447c-e7ce-dd886e15f0d1"
      },
      "execution_count": 59,
      "outputs": [
        {
          "output_type": "execute_result",
          "data": {
            "text/plain": [
              "'Daniel got the apple there . John picked up the football there . Daniel left the apple . Daniel moved to the kitchen . Sandra went back to the bathroom . Sandra grabbed the apple there . John dropped the football . John got the football there . Sandra put down the apple . Sandra grabbed the apple there . Daniel travelled to the hallway . Sandra left the apple .'"
            ],
            "application/vnd.google.colaboratory.intrinsic+json": {
              "type": "string"
            }
          },
          "metadata": {},
          "execution_count": 59
        }
      ]
    },
    {
      "cell_type": "code",
      "source": [
        "query=' '.join(word for word in train_data[23][1])"
      ],
      "metadata": {
        "id": "tVMilylLCyHf"
      },
      "execution_count": 60,
      "outputs": []
    },
    {
      "cell_type": "code",
      "source": [
        "query"
      ],
      "metadata": {
        "colab": {
          "base_uri": "https://localhost:8080/",
          "height": 35
        },
        "id": "03fRtohuCyBw",
        "outputId": "d734ee1f-aadd-4e26-fd14-4df6cc03ec21"
      },
      "execution_count": 61,
      "outputs": [
        {
          "output_type": "execute_result",
          "data": {
            "text/plain": [
              "'Is Daniel in the office ?'"
            ],
            "application/vnd.google.colaboratory.intrinsic+json": {
              "type": "string"
            }
          },
          "metadata": {},
          "execution_count": 61
        }
      ]
    },
    {
      "cell_type": "code",
      "source": [
        "test_data[23][2]"
      ],
      "metadata": {
        "colab": {
          "base_uri": "https://localhost:8080/",
          "height": 35
        },
        "id": "eyn3mCwWDAe0",
        "outputId": "4d8cea31-8592-4fa0-cb10-fcaa7211f698"
      },
      "execution_count": 62,
      "outputs": [
        {
          "output_type": "execute_result",
          "data": {
            "text/plain": [
              "'no'"
            ],
            "application/vnd.google.colaboratory.intrinsic+json": {
              "type": "string"
            }
          },
          "metadata": {},
          "execution_count": 62
        }
      ]
    },
    {
      "cell_type": "code",
      "source": [
        "val_max=np.argmax(pred_results[23])\n",
        "for key ,val in tokenizer.word_index.items():\n",
        "    if val==val_max:\n",
        "        k=key\n",
        "print(\"predicted answer is\",k)\n",
        "print(\"probability of certainity\",pred_results[23][val_max])"
      ],
      "metadata": {
        "colab": {
          "base_uri": "https://localhost:8080/"
        },
        "id": "3Gp5dRWxDASj",
        "outputId": "03678720-7e78-4255-c6f6-0a6f99f8599c"
      },
      "execution_count": 63,
      "outputs": [
        {
          "output_type": "stream",
          "name": "stdout",
          "text": [
            "predicted answer is yes\n",
            "probability of certainity 0.5077539\n"
          ]
        }
      ]
    },
    {
      "cell_type": "code",
      "source": [],
      "metadata": {
        "id": "EENZwpIjEMTy"
      },
      "execution_count": null,
      "outputs": []
    }
  ]
}